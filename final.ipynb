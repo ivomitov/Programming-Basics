{
 "cells": [
  {
   "cell_type": "markdown",
   "metadata": {},
   "source": [
    "# プログラミング基礎"
   ]
  },
  {
   "cell_type": "markdown",
   "metadata": {},
   "source": [
    "ミトフ　イヴァイロ　ロセノフ \\\n",
    "学籍番号：1120239k"
   ]
  },
  {
   "cell_type": "markdown",
   "metadata": {},
   "source": [
    "### 問題1"
   ]
  },
  {
   "cell_type": "code",
   "execution_count": 1,
   "metadata": {},
   "outputs": [
    {
     "name": "stdout",
     "output_type": "stream",
     "text": [
      "一橋大学の現れる回数: 12\n"
     ]
    }
   ],
   "source": [
    "with open('gakucho_message.txt', \"r\", encoding=\"utf-8\") as f:\n",
    "    message = f.read()\n",
    "\n",
    "count = message.count(\"一橋大学\")\n",
    "\n",
    "print(\"一橋大学の現れる回数:\", count)"
   ]
  },
  {
   "cell_type": "markdown",
   "metadata": {},
   "source": [
    "### 問題2"
   ]
  },
  {
   "cell_type": "code",
   "execution_count": 8,
   "metadata": {},
   "outputs": [
    {
     "name": "stdout",
     "output_type": "stream",
     "text": [
      "83\n"
     ]
    }
   ],
   "source": [
    "N = int(input())\n",
    "\n",
    "subjects_points = []\n",
    "for n in range(N):\n",
    "    subject_points = list(map(int, input().split()))\n",
    "    subjects_points.append(subject_points)\n",
    "\n",
    "points_per_student = list(zip(*subjects_points))\n",
    "\n",
    "max_total = 0\n",
    "for points in points_per_student:\n",
    "    total = sum(points)\n",
    "    if total > max_total:\n",
    "        max_total = total\n",
    "\n",
    "print(max_total)"
   ]
  },
  {
   "cell_type": "markdown",
   "metadata": {},
   "source": [
    "### 問題3"
   ]
  },
  {
   "cell_type": "markdown",
   "metadata": {},
   "source": [
    "クイックソートが計算量が大きくなるのは、ピボットが極端な値を取るときです。例えば、最大値や最小値です。その場合は、計算量はO(N^2)となります。こういうシチュエーションを避けるために、ピボットを乱数にすることができます。そうすると、計算量がO(n*log(n))となります。\\ 以下は、ピボットを最大値にした場合のquick_sort_normalとピボットを乱数にした場合の、それぞれの平均計算時間を出力するコードです。平均計算時間からわかるように、乱数を使用した場合は計算量が3倍以上少ないです。"
   ]
  },
  {
   "cell_type": "code",
   "execution_count": 38,
   "metadata": {},
   "outputs": [
    {
     "name": "stdout",
     "output_type": "stream",
     "text": [
      "Normal Time: 0.0005851197242736817\n",
      "Random Time: 0.00012998104095458983\n"
     ]
    }
   ],
   "source": [
    "import random\n",
    "import time\n",
    "import matplotlib.pyplot as plt\n",
    "import numpy as np\n",
    "\n",
    "def quick_sort_normal(arr):\n",
    "    if len(arr) <= 1:\n",
    "        return arr\n",
    "    else:\n",
    "        pivot = max(arr)\n",
    "        less_than_pivot = [x for x in arr[1:] if x <= pivot]\n",
    "        greater_than_pivot = [x for x in arr[1:] if x > pivot]\n",
    "        return quick_sort_normal(less_than_pivot) + [pivot] + quick_sort_normal(greater_than_pivot)\n",
    "    \n",
    "def quick_sort_random(arr):\n",
    "    if len(arr) <= 1:\n",
    "        return arr\n",
    "    else:\n",
    "        pivot = random.choice(arr)\n",
    "        less_than_pivot = [x for x in arr if x < pivot]\n",
    "        equal_to_pivot = [x for x in arr if x == pivot]\n",
    "        greater_than_pivot = [x for x in arr if x > pivot]\n",
    "        return quick_sort_random(less_than_pivot) + equal_to_pivot + quick_sort_random(greater_than_pivot)\n",
    "\n",
    "def measure_quick_sort_random(arr):\n",
    "    start_time = time.time()\n",
    "    quick_sort_random(arr)\n",
    "    end_time = time.time()\n",
    "    return end_time - start_time\n",
    "\n",
    "def measure_quick_sort_normal(arr):\n",
    "    start_time = time.time()\n",
    "    quick_sort_normal(arr)\n",
    "    end_time = time.time()\n",
    "    return end_time - start_time\n",
    "\n",
    "tests = []\n",
    "for i in range(100):\n",
    "    arr = [x for x in range(100)]\n",
    "    random.shuffle(arr)\n",
    "    tests.append(arr)\n",
    "\n",
    "times_random = []\n",
    "times_normal = []\n",
    "\n",
    "for test in tests:\n",
    "    time_random = measure_quick_sort_random(test)\n",
    "    time_normal = measure_quick_sort_normal(test)\n",
    "    times_random.append(time_random)\n",
    "    times_normal.append(time_normal)\n",
    "\n",
    "print(\"Normal Time:\", np.mean(times_normal))\n",
    "print(\"Random Time:\", np.mean(times_random))"
   ]
  },
  {
   "cell_type": "markdown",
   "metadata": {},
   "source": [
    "### 問題4"
   ]
  },
  {
   "cell_type": "code",
   "execution_count": 27,
   "metadata": {},
   "outputs": [],
   "source": [
    "class Agent_mine(): #自分のエージェント\n",
    "    def __init__(self):\n",
    "        self.name=\"my agent\"\n",
    "        self.reward_hist=[] \n",
    "        self.choice_hist=[] \n",
    "    \n",
    "    def play(self): \n",
    "        r=random.random() \n",
    "        if (len(self.choice_hist)+1) % 3 == 0:\n",
    "            self.choice_hist.append(0)\n",
    "            return 0\n",
    "            \n",
    "        elif r<0.5:\n",
    "            self.choice_hist.append(0)\n",
    "            return 0 \n",
    "        \n",
    "        else:\n",
    "            self.choice_hist.append(1) \n",
    "            return 1"
   ]
  },
  {
   "cell_type": "code",
   "execution_count": 16,
   "metadata": {},
   "outputs": [],
   "source": [
    "class Agent_rnd():\n",
    "    def __init__(self):\n",
    "        self.name=\"random\"\n",
    "        self.reward_hist=[] \n",
    "        self.choice_hist=[] \n",
    "    \n",
    "    def play(self): \n",
    "        r=random.random()\n",
    "        if r<0.5: \n",
    "            self.choice_hist.append(0)\n",
    "            return 0 \n",
    "        else:\n",
    "            self.choice_hist.append(1)\n",
    "            return 1"
   ]
  },
  {
   "cell_type": "code",
   "execution_count": 17,
   "metadata": {},
   "outputs": [],
   "source": [
    "class Agent_rnd70():\n",
    "    def __init__(self):\n",
    "        self.name=\"random70\"\n",
    "        self.reward_hist=[] \n",
    "        self.choice_hist=[]\n",
    "    \n",
    "    def play(self): \n",
    "        r=random.random() \n",
    "        if r<0.7: \n",
    "            self.choice_hist.append(0)\n",
    "            return 0 \n",
    "        else:\n",
    "            self.choice_hist.append(1) \n",
    "            return 1"
   ]
  },
  {
   "cell_type": "code",
   "execution_count": 18,
   "metadata": {},
   "outputs": [],
   "source": [
    "class Agent_rnd30():\n",
    "    def __init__(self):\n",
    "        self.name=\"random30\"\n",
    "        self.reward_hist=[] \n",
    "        self.choice_hist=[] \n",
    "    \n",
    "    def play(self): \n",
    "        r=random.random() \n",
    "        if r<0.3:\n",
    "            self.choice_hist.append(0) \n",
    "            return 0 \n",
    "        else:\n",
    "            self.choice_hist.append(1) \n",
    "            return 1"
   ]
  },
  {
   "cell_type": "code",
   "execution_count": 19,
   "metadata": {},
   "outputs": [],
   "source": [
    "class Agent_lrn():\n",
    "    def __init__(self):\n",
    "        self.name=\"learner\"\n",
    "        self.reward_hist=[] \n",
    "        self.choice_hist=[] \n",
    "    \n",
    "    def play(self): \n",
    "        if len(self.choice_hist)<=5:\n",
    "            self.choice_hist.append(1) \n",
    "            return 1\n",
    "        elif sum(self.choice_hist[0:5])<3:\n",
    "            self.choice_hist.append(0) \n",
    "            return 0\n",
    "        else:\n",
    "            self.choice_hist.append(1)\n",
    "            return 1"
   ]
  },
  {
   "cell_type": "code",
   "execution_count": 20,
   "metadata": {},
   "outputs": [],
   "source": [
    "class Agent_tft():\n",
    "    def __init__(self):\n",
    "        self.name=\"tft\"\n",
    "        self.reward_hist=[] \n",
    "        self.choice_hist=[] \n",
    "    \n",
    "    def play(self): \n",
    "        if len(self.choice_hist)==0 or len(self.reward_hist)==0:\n",
    "            self.choice_hist.append(0) \n",
    "            return 0\n",
    "        else:\n",
    "            if self.reward_hist[-1]>1:\n",
    "                self.choice_hist.append(0)\n",
    "                return 0\n",
    "            else:\n",
    "                self.choice_hist.append(1)\n",
    "                return 1"
   ]
  },
  {
   "cell_type": "code",
   "execution_count": 21,
   "metadata": {},
   "outputs": [],
   "source": [
    "class Agent_gnr():\n",
    "    def __init__(self):\n",
    "        self.name=\"generosity\"\n",
    "        self.reward_hist=[] \n",
    "        self.choice_hist=[] \n",
    "    \n",
    "    def play(self): \n",
    "        if len(self.choice_hist)<=1:\n",
    "            self.choice_hist.append(0) \n",
    "            return 0\n",
    "        else:\n",
    "            if self.reward_hist[-1]<2 and self.reward_hist[-2]<2:\n",
    "                self.choice_hist.append(1)\n",
    "                return 1\n",
    "            else:\n",
    "                self.choice_hist.append(0)\n",
    "                return 0"
   ]
  },
  {
   "cell_type": "code",
   "execution_count": 31,
   "metadata": {},
   "outputs": [],
   "source": [
    "class Agent_C():\n",
    "    def __init__(self):\n",
    "        self.name=\"cooperate\"\n",
    "        self.reward_hist=[]\n",
    "        self.choice_hist=[] \n",
    "    \n",
    "    def play(self):\n",
    "        self.choice_hist.append(0)\n",
    "        return 0"
   ]
  },
  {
   "cell_type": "code",
   "execution_count": 32,
   "metadata": {},
   "outputs": [],
   "source": [
    "class Agent_D():\n",
    "    def __init__(self):\n",
    "        self.name=\"defect\"\n",
    "        self.reward_hist=[] \n",
    "        self.choice_hist=[] \n",
    "    \n",
    "    def play(self):\n",
    "        self.choice_hist.append(1)\n",
    "        return 1"
   ]
  },
  {
   "cell_type": "code",
   "execution_count": 37,
   "metadata": {},
   "outputs": [
    {
     "name": "stdout",
     "output_type": "stream",
     "text": [
      "my agent vs random\n",
      "[0, 0, 0, 1, 1, 0, 0, 0, 0, 1, 0, 0, 0, 1, 0, 1, 0, 0, 0, 0, 0, 1, 0, 0, 0, 1, 0] [4, 4, 0, 6, 6, 0, 4, 4, 0, 6, 0, 0, 4, 2, 0, 2, 4, 4, 0, 0, 0, 2, 0, 0, 0, 6, 0]\n",
      "[0, 0, 1, 0, 0, 1, 0, 0, 1, 0, 1, 1, 0, 1, 1, 1, 0, 0, 1, 1, 1, 1, 1, 1, 1, 0, 1] [4, 4, 6, 0, 0, 6, 4, 4, 6, 0, 6, 6, 4, 2, 6, 2, 4, 4, 6, 6, 6, 2, 6, 6, 6, 0, 6] \n",
      "\n",
      "my agent vs random70\n",
      "[0, 1, 0, 0, 1, 0, 1, 0, 0, 0, 1, 0, 1, 1, 0, 1, 1, 0, 0, 1, 0, 0, 0, 0, 1, 1, 0] [0, 6, 4, 0, 6, 0, 6, 4, 4, 4, 6, 4, 2, 6, 4, 6, 6, 4, 4, 6, 4, 4, 4, 4, 6, 2, 0]\n",
      "[1, 0, 0, 1, 0, 1, 0, 0, 0, 0, 0, 0, 1, 0, 0, 0, 0, 0, 0, 0, 0, 0, 0, 0, 0, 1, 1] [6, 0, 4, 6, 0, 6, 0, 4, 4, 4, 0, 4, 2, 0, 4, 0, 0, 4, 4, 0, 4, 4, 4, 4, 0, 2, 6] \n",
      "\n",
      "my agent vs random30\n",
      "[1, 1, 0, 0, 1, 0, 1, 1, 0, 0, 1, 0, 1, 1, 0, 1, 0, 0, 1, 1, 0, 1, 1, 0, 1, 1, 0] [2, 2, 4, 0, 2, 4, 2, 2, 0, 4, 2, 0, 6, 6, 0, 2, 4, 0, 2, 2, 0, 2, 6, 0, 6, 2, 4]\n",
      "[1, 1, 0, 1, 1, 0, 1, 1, 1, 0, 1, 1, 0, 0, 1, 1, 0, 1, 1, 1, 1, 1, 0, 1, 0, 1, 0] [2, 2, 4, 6, 2, 4, 2, 2, 6, 4, 2, 6, 0, 0, 6, 2, 4, 6, 2, 2, 6, 2, 0, 6, 0, 2, 4] \n",
      "\n",
      "my agent vs learner\n",
      "[0, 1, 0, 0, 0, 0, 0, 1, 0, 0, 1, 0, 1, 1, 0, 1, 0, 0, 0, 1, 0, 1, 0, 0, 1, 1, 0] [0, 2, 0, 0, 0, 0, 0, 2, 0, 0, 2, 0, 2, 2, 0, 2, 0, 0, 0, 2, 0, 2, 0, 0, 2, 2, 0]\n",
      "[1, 1, 1, 1, 1, 1, 1, 1, 1, 1, 1, 1, 1, 1, 1, 1, 1, 1, 1, 1, 1, 1, 1, 1, 1, 1, 1] [6, 2, 6, 6, 6, 6, 6, 2, 6, 6, 2, 6, 2, 2, 6, 2, 6, 6, 6, 2, 6, 2, 6, 6, 2, 2, 6] \n",
      "\n",
      "my agent vs tft\n",
      "[0, 1, 0, 1, 0, 0, 0, 1, 0, 0, 1, 0, 1, 1, 0, 1, 0, 0, 0, 1, 0, 1, 1, 0, 1, 1, 0] [4, 6, 0, 6, 0, 4, 4, 6, 0, 4, 6, 0, 6, 2, 4, 6, 0, 4, 4, 6, 0, 6, 2, 4, 6, 2, 4]\n",
      "[0, 0, 1, 0, 1, 0, 0, 0, 1, 0, 0, 1, 0, 1, 0, 0, 1, 0, 0, 0, 1, 0, 1, 0, 0, 1, 0] [4, 0, 6, 0, 6, 4, 4, 0, 6, 4, 0, 6, 0, 2, 4, 0, 6, 4, 4, 0, 6, 0, 2, 4, 0, 2, 4] \n",
      "\n",
      "my agent vs generosity\n",
      "[0, 0, 0, 0, 1, 0, 1, 1, 0, 1, 0, 0, 1, 1, 0, 0, 1, 0, 1, 1, 0, 1, 0, 0, 1, 1, 0] [4, 4, 4, 4, 6, 4, 6, 6, 0, 6, 4, 4, 6, 6, 0, 4, 6, 4, 6, 6, 0, 6, 4, 4, 6, 6, 0]\n",
      "[0, 0, 0, 0, 0, 0, 0, 0, 1, 0, 0, 0, 0, 0, 1, 0, 0, 0, 0, 0, 1, 0, 0, 0, 0, 0, 1] [4, 4, 4, 4, 0, 4, 0, 0, 6, 0, 4, 4, 0, 0, 6, 4, 0, 4, 0, 0, 6, 0, 4, 4, 0, 0, 6] \n",
      "\n",
      "my agent vs cooperate\n",
      "[0, 0, 0, 0, 1, 0, 1, 1, 0, 1, 0, 0, 1, 0, 0, 1, 0, 0, 0, 0, 0, 0, 1, 0, 0, 1, 0] [4, 4, 4, 4, 6, 4, 6, 6, 4, 6, 4, 4, 6, 4, 4, 6, 4, 4, 4, 4, 4, 4, 6, 4, 4, 6, 4]\n",
      "[0, 0, 0, 0, 0, 0, 0, 0, 0, 0, 0, 0, 0, 0, 0, 0, 0, 0, 0, 0, 0, 0, 0, 0, 0, 0, 0] [4, 4, 4, 4, 0, 4, 0, 0, 4, 0, 4, 4, 0, 4, 4, 0, 4, 4, 4, 4, 4, 4, 0, 4, 4, 0, 4] \n",
      "\n",
      "my agent vs defect\n",
      "[1, 0, 0, 1, 1, 0, 0, 0, 0, 1, 1, 0, 0, 1, 0, 1, 0, 0, 0, 1, 0, 0, 1, 0, 1, 0, 0] [2, 0, 0, 2, 2, 0, 0, 0, 0, 2, 2, 0, 0, 2, 0, 2, 0, 0, 0, 2, 0, 0, 2, 0, 2, 0, 0]\n",
      "[1, 1, 1, 1, 1, 1, 1, 1, 1, 1, 1, 1, 1, 1, 1, 1, 1, 1, 1, 1, 1, 1, 1, 1, 1, 1, 1] [2, 6, 6, 2, 2, 6, 6, 6, 6, 2, 2, 6, 6, 2, 6, 2, 6, 6, 6, 2, 6, 6, 2, 6, 2, 6, 6] \n",
      "\n"
     ]
    }
   ],
   "source": [
    "import random\n",
    "\n",
    "N = random.randint(25,35)\n",
    "Table=[[4,0], [6, 2]]\n",
    "\n",
    "opponents = [Agent_rnd(), Agent_rnd70(), Agent_rnd30(), Agent_lrn(), Agent_tft(), Agent_gnr(), Agent_C(), Agent_D()]\n",
    "\n",
    "for opponent in opponents:\n",
    "    A1 = Agent_mine()\n",
    "    A2 = opponent\n",
    "    A1.choice_hist=[]\n",
    "    A2.choice_hist=[]\n",
    "    A1.reward_hist=[]\n",
    "    A2.reward_hist=[]\n",
    "\n",
    "    for k in range(N):\n",
    "        a1=A1.play()\n",
    "        a2=A2.play()\n",
    "        A1_rew=Table[a1][a2]\n",
    "        A2_rew=Table[a2][a1]\n",
    "        A1.reward_hist.append(A1_rew)\n",
    "        A2.reward_hist.append(A2_rew)\n",
    "\n",
    "    print(A1.name + \" vs \" + A2.name)\n",
    "    print(A1.choice_hist, A1.reward_hist)\n",
    "    print(A2.choice_hist, A2.reward_hist, \"\\n\")"
   ]
  }
 ],
 "metadata": {
  "kernelspec": {
   "display_name": "Python 3",
   "language": "python",
   "name": "python3"
  },
  "language_info": {
   "codemirror_mode": {
    "name": "ipython",
    "version": 3
   },
   "file_extension": ".py",
   "mimetype": "text/x-python",
   "name": "python",
   "nbconvert_exporter": "python",
   "pygments_lexer": "ipython3",
   "version": "3.10.5"
  }
 },
 "nbformat": 4,
 "nbformat_minor": 2
}
