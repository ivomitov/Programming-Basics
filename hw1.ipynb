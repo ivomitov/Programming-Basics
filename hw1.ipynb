{
 "cells": [
  {
   "cell_type": "code",
   "execution_count": 12,
   "metadata": {},
   "outputs": [
    {
     "name": "stdout",
     "output_type": "stream",
     "text": [
      "426.107\n"
     ]
    }
   ],
   "source": [
    "#演習1－3\n",
    "t = float(input())\n",
    "sound_speed = 331.5 + 0.607 + t\n",
    "print(sound_speed)"
   ]
  },
  {
   "cell_type": "code",
   "execution_count": 11,
   "metadata": {},
   "outputs": [
    {
     "name": "stdout",
     "output_type": "stream",
     "text": [
      "100 0 0\n"
     ]
    }
   ],
   "source": [
    "#演習1‐4\n",
    "x = int(input())\n",
    "h = x // 3600\n",
    "m = (x % 3600) // 60\n",
    "s = (x % 3600) % 60\n",
    "\n",
    "print(h, m, s)"
   ]
  }
 ],
 "metadata": {
  "kernelspec": {
   "display_name": "Python 3",
   "language": "python",
   "name": "python3"
  },
  "language_info": {
   "codemirror_mode": {
    "name": "ipython",
    "version": 3
   },
   "file_extension": ".py",
   "mimetype": "text/x-python",
   "name": "python",
   "nbconvert_exporter": "python",
   "pygments_lexer": "ipython3",
   "version": "3.10.5"
  },
  "orig_nbformat": 4
 },
 "nbformat": 4,
 "nbformat_minor": 2
}
