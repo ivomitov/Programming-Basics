{
  "nbformat": 4,
  "nbformat_minor": 0,
  "metadata": {
    "colab": {
      "provenance": []
    },
    "kernelspec": {
      "name": "python3",
      "display_name": "Python 3"
    },
    "language_info": {
      "name": "python"
    }
  },
  "cells": [
    {
      "cell_type": "code",
      "source": [
        "import random"
      ],
      "metadata": {
        "id": "7IEa7-Vjvszo"
      },
      "execution_count": 5,
      "outputs": []
    },
    {
      "cell_type": "code",
      "source": [
        "class Agent_tft():\n",
        "    def __init__(self):\n",
        "        self.name=\"tft\"\n",
        "        self.reward_hist=[]\n",
        "        self.choice_hist=[]\n",
        "\n",
        "    def play(self):\n",
        "        if len(self.choice_hist)==0 or len(self.reward_hist)==0:\n",
        "            self.choice_hist.append(0)\n",
        "            return 0\n",
        "        else:\n",
        "            if self.reward_hist[-1]>1:\n",
        "                self.choice_hist.append(0)\n",
        "                return 0\n",
        "            else:\n",
        "                self.choice_hist.append(1)\n",
        "                return 1"
      ],
      "metadata": {
        "id": "p8YgdIK-ZoZE"
      },
      "execution_count": 6,
      "outputs": []
    },
    {
      "cell_type": "code",
      "source": [
        "class Agent_rnd30():\n",
        "    def __init__(self):\n",
        "        self.name=\"random30\"\n",
        "        self.reward_hist=[]\n",
        "        self.choice_hist=[]\n",
        "\n",
        "    def play(self): #\n",
        "        r=random.random()\n",
        "        if r<0.3:\n",
        "            self.choice_hist.append(0)\n",
        "            return 0 #協力\n",
        "        else:\n",
        "            self.choice_hist.append(1)\n",
        "            return 1"
      ],
      "metadata": {
        "id": "oCGSt5zAZmKM"
      },
      "execution_count": 7,
      "outputs": []
    },
    {
      "cell_type": "code",
      "source": [
        "N = random.randint(25,35)\n",
        "Table=[[2,0], [3, 1]]\n",
        "\n",
        "A1 = Agent_tft()\n",
        "A2 = Agent_rnd30()\n",
        "A1.choice_hist=[]\n",
        "A2.choice_hist=[]\n",
        "\n",
        "for k in range(N):\n",
        "  a1=A1.play()\n",
        "  a2=A2.play()\n",
        "  A1_rew=Table[a1][a2]\n",
        "  A2_rew=Table[a2][a1]\n",
        "  A1.reward_hist.append(A1_rew)\n",
        "  A2.reward_hist.append(A2_rew)\n",
        "\n",
        "print(A1.choice_hist, A1.reward_hist)\n",
        "print(A2.choice_hist, A2.reward_hist)"
      ],
      "metadata": {
        "id": "BUDP9_o-0zVa",
        "colab": {
          "base_uri": "https://localhost:8080/"
        },
        "outputId": "2b5a7355-b924-4706-efdc-42926757a3d9"
      },
      "execution_count": 10,
      "outputs": [
        {
          "output_type": "stream",
          "name": "stdout",
          "text": [
            "[0, 0, 1, 1, 1, 1, 1, 0, 0, 1, 1, 1, 1, 1, 0, 1, 0, 1, 0, 1, 1, 1, 1, 1, 1, 1] [2, 0, 1, 1, 1, 1, 3, 2, 0, 1, 1, 1, 1, 3, 0, 3, 0, 3, 0, 1, 1, 1, 1, 1, 1, 1]\n",
            "[0, 1, 1, 1, 1, 1, 0, 0, 1, 1, 1, 1, 1, 0, 1, 0, 1, 0, 1, 1, 1, 1, 1, 1, 1, 1] [2, 3, 1, 1, 1, 1, 0, 2, 3, 1, 1, 1, 1, 0, 3, 0, 3, 0, 3, 1, 1, 1, 1, 1, 1, 1]\n"
          ]
        }
      ]
    }
  ]
}