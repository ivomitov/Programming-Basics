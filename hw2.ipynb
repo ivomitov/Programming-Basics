{
 "cells": [
  {
   "cell_type": "code",
   "execution_count": 10,
   "metadata": {},
   "outputs": [
    {
     "name": "stdout",
     "output_type": "stream",
     "text": [
      "いあえい 4\n"
     ]
    }
   ],
   "source": [
    "#演習1\n",
    "text = input()\n",
    "vowels = 'あいうえお'\n",
    "\n",
    "result_vowels = \"\"\n",
    "vowels_count = 0\n",
    "for character in text:\n",
    "    if character in vowels:\n",
    "        result_vowels += character\n",
    "        vowels_count += 1\n",
    "\n",
    "print(result_vowels, vowels_count)"
   ]
  }
 ],
 "metadata": {
  "kernelspec": {
   "display_name": "Python 3",
   "language": "python",
   "name": "python3"
  },
  "language_info": {
   "codemirror_mode": {
    "name": "ipython",
    "version": 3
   },
   "file_extension": ".py",
   "mimetype": "text/x-python",
   "name": "python",
   "nbconvert_exporter": "python",
   "pygments_lexer": "ipython3",
   "version": "3.10.5"
  },
  "orig_nbformat": 4
 },
 "nbformat": 4,
 "nbformat_minor": 2
}
