{
 "cells": [
  {
   "cell_type": "code",
   "execution_count": 47,
   "metadata": {},
   "outputs": [
    {
     "name": "stdout",
     "output_type": "stream",
     "text": [
      "2 2\n"
     ]
    }
   ],
   "source": [
    "#余裕のある人に\n",
    "taro_cards = list(map(int, input().split()))\n",
    "hanako_cards = list(map(int, input().split()))\n",
    "\n",
    "cards_exchange = []\n",
    "for i in range(len(taro_cards)):\n",
    "    for j in range(len(hanako_cards)):\n",
    "        taro_cards_new = taro_cards[:i] + taro_cards[i+1:]\n",
    "        hanako_cards_new = hanako_cards[:j] + hanako_cards[j+1:]\n",
    "\n",
    "        taro_cards_new.append(hanako_cards[j])\n",
    "        hanako_cards_new.append(taro_cards[i])\n",
    "        \n",
    "        if sum(taro_cards_new) == sum(hanako_cards_new):\n",
    "            cards_exchange.append((taro_cards[i], hanako_cards[j]))\n",
    "\n",
    "if cards_exchange:\n",
    "    current_tuple = cards_exchange[0]\n",
    "    current_sum = sum(current_tuple)\n",
    "\n",
    "    for cards in cards_exchange:\n",
    "        if current_sum > sum(cards):\n",
    "            current_sum = sum(cards)\n",
    "            current_tuple = cards\n",
    "    \n",
    "    result = \" \".join(map(str, current_tuple))\n",
    "    print(result)\n",
    "\n",
    "else:\n",
    "    print(-1)"
   ]
  }
 ],
 "metadata": {
  "kernelspec": {
   "display_name": "Python 3",
   "language": "python",
   "name": "python3"
  },
  "language_info": {
   "codemirror_mode": {
    "name": "ipython",
    "version": 3
   },
   "file_extension": ".py",
   "mimetype": "text/x-python",
   "name": "python",
   "nbconvert_exporter": "python",
   "pygments_lexer": "ipython3",
   "version": "3.10.5"
  },
  "orig_nbformat": 4
 },
 "nbformat": 4,
 "nbformat_minor": 2
}
