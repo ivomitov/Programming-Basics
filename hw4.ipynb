{
 "cells": [
  {
   "cell_type": "code",
   "execution_count": 12,
   "metadata": {},
   "outputs": [
    {
     "name": "stdout",
     "output_type": "stream",
     "text": [
      "3\n"
     ]
    }
   ],
   "source": [
    "#余裕のある人に\n",
    "T = int(input())\n",
    "A = list(map(int, input().split()))\n",
    "\n",
    "book_count = 0\n",
    "for book_time in A:\n",
    "    if T - book_time > 0:\n",
    "        book_count += 1\n",
    "        T -= book_time\n",
    "    else:\n",
    "        break\n",
    "\n",
    "print(book_count)"
   ]
  }
 ],
 "metadata": {
  "kernelspec": {
   "display_name": "Python 3",
   "language": "python",
   "name": "python3"
  },
  "language_info": {
   "codemirror_mode": {
    "name": "ipython",
    "version": 3
   },
   "file_extension": ".py",
   "mimetype": "text/x-python",
   "name": "python",
   "nbconvert_exporter": "python",
   "pygments_lexer": "ipython3",
   "version": "3.10.5"
  }
 },
 "nbformat": 4,
 "nbformat_minor": 2
}
