{
 "cells": [
  {
   "cell_type": "code",
   "execution_count": 14,
   "metadata": {},
   "outputs": [
    {
     "name": "stdout",
     "output_type": "stream",
     "text": [
      "4\n"
     ]
    }
   ],
   "source": [
    "#余裕のある人に\n",
    "X, L, R = map(int, input().split())\n",
    "\n",
    "if L > R:\n",
    "    print(\"LはRより大きい\")\n",
    "else:\n",
    "    if X > R:\n",
    "        answer = R\n",
    "    elif X < L:\n",
    "        answer = L\n",
    "    else:\n",
    "        answer = X\n",
    "\n",
    "    print(answer)"
   ]
  },
  {
   "cell_type": "code",
   "execution_count": null,
   "metadata": {},
   "outputs": [],
   "source": [
    "#余裕のある人に\n",
    "d=int(input())\n",
    "n=int(input())\n",
    "m=int(input())\n",
    "\n",
    "D=[]\n",
    "K=[] \n",
    "for i in range(n-1):\n",
    "    D.append(int(input()))\n",
    "    D.append(d) \n",
    "    D.sort() \n",
    "for i in range(m):\n",
    "    K.append(int(input()))\n",
    "\n",
    "\n",
    "all_distance = 0\n",
    "\n",
    "for k in K:\n",
    "    min_distance = d\n",
    "    for dist in D:\n",
    "        distance = abs(k-dist)\n",
    "        if distance < min_distance:\n",
    "            min_distance = distance\n",
    "    all_distance += min_distance\n",
    "\n",
    "print(all_distance)"
   ]
  }
 ],
 "metadata": {
  "kernelspec": {
   "display_name": "Python 3",
   "language": "python",
   "name": "python3"
  },
  "language_info": {
   "codemirror_mode": {
    "name": "ipython",
    "version": 3
   },
   "file_extension": ".py",
   "mimetype": "text/x-python",
   "name": "python",
   "nbconvert_exporter": "python",
   "pygments_lexer": "ipython3",
   "version": "3.10.5"
  }
 },
 "nbformat": 4,
 "nbformat_minor": 2
}
