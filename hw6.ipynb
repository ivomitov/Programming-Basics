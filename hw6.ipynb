{
 "cells": [
  {
   "cell_type": "code",
   "execution_count": 2,
   "metadata": {},
   "outputs": [],
   "source": [
    "def merge(S,T):\n",
    "    K = []\n",
    "    i = 0 \n",
    "    j = 0\n",
    "\n",
    "    while i < len(S) and j < len(T):\n",
    "        if S[i] <= T[j]:\n",
    "            K.append(S[i])\n",
    "            i = i + 1\n",
    "        else:\n",
    "            K.append(T[j])\n",
    "            j = j + 1\n",
    "\n",
    "    while i < len(S):\n",
    "        K.append(S[i])\n",
    "        i = i + 1\n",
    "\n",
    "    while j < len(T):\n",
    "        K.append(T[j])\n",
    "        j = j + 1\n",
    "\n",
    "    return K\n",
    "\n",
    "def merge_sort(A):\n",
    "    if len(A) <= 1:\n",
    "        return A\n",
    "\n",
    "    mid = len(A)//2\n",
    "    left = A[:mid]\n",
    "    right = A[mid:]\n",
    "    left = merge_sort(left)\n",
    "    right = merge_sort(right)\n",
    "\n",
    "    K=merge(left, right)\n",
    "\n",
    "    return K\n",
    "\n",
    "L=list(map(int,input().split()))\n",
    "print(merge_sort(L))"
   ]
  }
 ],
 "metadata": {
  "kernelspec": {
   "display_name": "Python 3",
   "language": "python",
   "name": "python3"
  },
  "language_info": {
   "codemirror_mode": {
    "name": "ipython",
    "version": 3
   },
   "file_extension": ".py",
   "mimetype": "text/x-python",
   "name": "python",
   "nbconvert_exporter": "python",
   "pygments_lexer": "ipython3",
   "version": "3.10.5"
  }
 },
 "nbformat": 4,
 "nbformat_minor": 2
}
