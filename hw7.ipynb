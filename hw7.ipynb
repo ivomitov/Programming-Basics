{
 "cells": [
  {
   "cell_type": "code",
   "execution_count": 1,
   "metadata": {},
   "outputs": [
    {
     "name": "stdout",
     "output_type": "stream",
     "text": [
      "9\n"
     ]
    }
   ],
   "source": [
    "months_dict = {\n",
    "    '睦月':'1',\n",
    "    '如月':'2',\n",
    "    '弥生':'3',\n",
    "    '卯月':'4',\n",
    "    '皐月':'5',\n",
    "    '水無月':'6',\n",
    "    '文月':'7',\n",
    "    '葉月':'8',\n",
    "    '長月':'9',\n",
    "    '神無月':'10',\n",
    "    '霜月':'11',\n",
    "    '師走':'12'}\n",
    "\n",
    "month = input()\n",
    "\n",
    "print(months_dict[month])"
   ]
  }
 ],
 "metadata": {
  "kernelspec": {
   "display_name": "Python 3",
   "language": "python",
   "name": "python3"
  },
  "language_info": {
   "codemirror_mode": {
    "name": "ipython",
    "version": 3
   },
   "file_extension": ".py",
   "mimetype": "text/x-python",
   "name": "python",
   "nbconvert_exporter": "python",
   "pygments_lexer": "ipython3",
   "version": "3.10.5"
  }
 },
 "nbformat": 4,
 "nbformat_minor": 2
}
